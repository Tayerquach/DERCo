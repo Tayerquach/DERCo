{
 "cells": [
  {
   "cell_type": "code",
   "execution_count": null,
   "id": "d1178fb5-0245-43ef-a862-ff49fb84cd87",
   "metadata": {},
   "outputs": [],
   "source": [
    "'''\n",
    "    Import raw epochs\n",
    "'''\n",
    "\n",
    "# Save output file\n",
    "data_path = 'DERCo'\n",
    "subject_id = 'ACB71'\n",
    "topic_id = 0\n",
    "topic_folder = 'article_' + str(topic_id)\n",
    "file_name = 'raw_epoch.fif'\n",
    "raw_fname = Path(data_path) / subject_id / topic_folder / file_name # Path to the raw epoch folder\n",
    "raw_epochs = mne.read_epochs(raw_fname)\n",
    "\n",
    "'''\n",
    "    Get EEG channels and set montage\n",
    "'''\n",
    "# Remove EOG channels\n",
    "raw_epochs.drop_channels(['HEOG'])\n",
    "# raw_data.drop_channels(['HEOG', 'VEOG'])\n",
    "# Set montage\n",
    "montage = mne.channels.make_standard_montage('standard_1020') # Electrode position file\n",
    "raw_epochs.set_montage(montage, verbose=False, on_missing='ignore')\n",
    "channel_names = raw_epochs.ch_names\n",
    "raw_epochs.info\n",
    "\n",
    "'''\n",
    "    Re-reference\n",
    "'''\n",
    "tmix = -0.2\n",
    "tmax = 0.5\n",
    "custom_epochs = raw_epochs.copy().set_eeg_reference(\"average\", projection=True).apply_proj() # re-referencing with the virtual average reference\n",
    "times = np.arange(custom_epochs.tmin, custom_epochs.tmax, 0.1) #[min],[max],[stepsize]"
   ]
  }
 ],
 "metadata": {
  "kernelspec": {
   "display_name": "Python 3 (ipykernel)",
   "language": "python",
   "name": "python3"
  },
  "language_info": {
   "codemirror_mode": {
    "name": "ipython",
    "version": 3
   },
   "file_extension": ".py",
   "mimetype": "text/x-python",
   "name": "python",
   "nbconvert_exporter": "python",
   "pygments_lexer": "ipython3",
   "version": "3.10.9"
  }
 },
 "nbformat": 4,
 "nbformat_minor": 5
}
